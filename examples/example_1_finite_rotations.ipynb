{
 "cells": [
  {
   "cell_type": "markdown",
   "metadata": {},
   "source": [
    "# Example 1: Introduction to finite rotations in MeshPy\n",
    "$\n",
    "% Define TeX macros for this document\n",
    "\\def\\vv#1{\\boldsymbol{#1}}\n",
    "\\def\\mm#1{\\boldsymbol{#1}}\n",
    "\\def\\R#1{\\mathbb{R}^{#1}}\n",
    "\\def\\SO{SO(3)}\n",
    "\\def\\triad{\\mm{\\Lambda}}\n",
    "$\n",
    "When working with Cosserat continua in 3D, the mathematical treatment of finite rotations is required.\n",
    "This example gives an overview of the finite rotation functionality in MeshPy.\n",
    "For a more comprehensive and theoretical overview of finite rotations, the interested reader is referred to:\n",
    "- Crisfield, M. A., 1997, Non-Linear Finite Element Analysis of Solids and Structures, Volume 2, Advanced Topics, Wiley & Sons.\n",
    "- Krenk, S., 2009, Non-Linear Modeling and Analysis of Solids and Structures, Cambridge University Press.\n",
    "\n",
    "All finite rotation functionality within MeshPy can be accessed via the `Rotation` class.\n",
    "Each instance of this class represents an element of the special orthogonal group $\\SO$.\n",
    "\n",
    "The rotation class can be imported with"
   ]
  },
  {
   "cell_type": "code",
   "execution_count": 1,
   "metadata": {},
   "outputs": [],
   "source": [
    "import numpy as np\n",
    "import pyvista as pv\n",
    "\n",
    "# Import the MeshPy rotation class\n",
    "from meshpy.core.rotation import Rotation\n",
    "\n",
    "# Utility functionality for this example\n",
    "from utils.example_1_utils import (\n",
    "    PyVistaPlotter,\n",
    "    add_cube_plot,\n",
    "    print_matrix,\n",
    "    print_rotation_matrix,\n",
    ")\n",
    "\n",
    "# For this example we only require static pyvista plots\n",
    "pv.set_jupyter_backend(\"static\")"
   ]
  },
  {
   "cell_type": "markdown",
   "metadata": {},
   "source": [
    "## Different finite rotation representations\n",
    "\n",
    "Internally, MeshPy uses a unit-quaternion representation to store the $\\SO$ element which provides an efficient an singularity free representation.\n",
    "However, the user can input and output all major representations of large rotations via the `Rotation` class.\n",
    "Supported representations are:\n",
    "- **Rotation axis and angle:** \n",
    "  From an user input point of view, this is the most natural wat to create a large rotation object. This is the default initialization method via the constructor, i.e., `rotation = Rotation(axis, angle)`\n",
    "- **Rotation (pseudo-) vector:** can be done with `rotation = Rotation.from_rotation_vector(psi)`\n",
    "- **Unit-quaternion:** can be done with `rotation = Rotation.from_quaternion(q)`\n",
    "- **Rotation matrix:** can be done with `rotation = Rotation.from_rotation_matrix(R)`\n",
    "\n",
    "\n",
    "Lets start with the creation of a unit rotation from  all different representations"
   ]
  },
  {
   "cell_type": "code",
   "execution_count": 2,
   "metadata": {},
   "outputs": [],
   "source": [
    "# Unit rotation from the axis/angle constructor.\n",
    "# Note: In this case the rotation axis does not matter, but it can not be a 0 vector\n",
    "unit_rotation_from_axis_angle = Rotation([1, 1, 1], 0.0)\n",
    "\n",
    "# Unit rotation from a rotation vector\n",
    "unit_rotation_from_rotation_vector = Rotation.from_rotation_vector([0, 0, 0])\n",
    "\n",
    "# Unit rotation from a quaternion\n",
    "unit_rotation_from_quaternion = Rotation.from_quaternion([1, 0, 0, 0])\n",
    "\n",
    "# Unit rotation from a rotation matrix (in this case the identity matrix)\n",
    "unit_rotation_from_rotation_matrix = Rotation.from_rotation_matrix(np.identity(3))\n",
    "\n",
    "# An empty constructor also creates a unit rotation\n",
    "unit_rotation_constructor = Rotation()"
   ]
  },
  {
   "cell_type": "markdown",
   "metadata": {},
   "source": [
    "We can now check that all created rotations are equal"
   ]
  },
  {
   "cell_type": "code",
   "execution_count": 3,
   "metadata": {},
   "outputs": [],
   "source": [
    "assert unit_rotation_constructor == unit_rotation_from_axis_angle\n",
    "assert unit_rotation_constructor == unit_rotation_from_rotation_vector\n",
    "assert unit_rotation_constructor == unit_rotation_from_quaternion\n",
    "assert unit_rotation_constructor == unit_rotation_from_rotation_matrix"
   ]
  },
  {
   "cell_type": "markdown",
   "metadata": {},
   "source": [
    "In the next step, lets create rotations around the $x$-axis with an angle of $\\pi/3$.\n",
    "\n",
    "Note: The rotation matrix representing this rotation is\n",
    "$$\n",
    "\\mm{R}_x = \n",
    "\\begin{bmatrix}\n",
    "1 & 0 & 0 \\\\\n",
    "0 & \\cos\\left(\\frac{\\pi}{3}\\right) & -\\sin\\left(\\frac{\\pi}{3}\\right) \\\\\n",
    "0 & \\sin\\left(\\frac{\\pi}{3}\\right) & \\cos\\left(\\frac{\\pi}{3}\\right)\n",
    "\\end{bmatrix}\n",
    "$$"
   ]
  },
  {
   "cell_type": "code",
   "execution_count": 4,
   "metadata": {},
   "outputs": [],
   "source": [
    "# Rotation from the axis/angle constructor\n",
    "# We define the x-axis as rotation axis and the angle as the second argument\n",
    "rotation_from_axis_angle = Rotation([1, 0, 0], np.pi / 3)\n",
    "\n",
    "# Rotation from a rotation vector\n",
    "rotation_from_rotation_vector = Rotation.from_rotation_vector([np.pi / 3, 0, 0])\n",
    "\n",
    "# Rotation from a rotation matrix\n",
    "rotation_from_rotation_matrix = Rotation.from_rotation_matrix(\n",
    "    np.array(\n",
    "        [\n",
    "            [1, 0, 0],\n",
    "            [0, np.cos(np.pi / 3), -np.sin(np.pi / 3)],\n",
    "            [0, np.sin(np.pi / 3), np.cos(np.pi / 3)],\n",
    "        ]\n",
    "    )\n",
    ")"
   ]
  },
  {
   "cell_type": "markdown",
   "metadata": {},
   "source": [
    "Again, we can check that all initializations result in the same rotation object"
   ]
  },
  {
   "cell_type": "code",
   "execution_count": 5,
   "metadata": {},
   "outputs": [],
   "source": [
    "assert rotation_from_axis_angle == rotation_from_rotation_vector\n",
    "assert rotation_from_axis_angle == rotation_from_rotation_matrix"
   ]
  },
  {
   "cell_type": "markdown",
   "metadata": {},
   "source": [
    "We can also extract the different representations from any `Rotation` object\n",
    "\n",
    "Note: The axis/angle representation is not unique and mainly useful as an input, therefore, no `get_axis_angle` method exists."
   ]
  },
  {
   "cell_type": "code",
   "execution_count": 6,
   "metadata": {},
   "outputs": [
    {
     "name": "stdout",
     "output_type": "stream",
     "text": [
      "Quaternion representation:\n",
      "[0.8660254 0.5       0.        0.       ]\n",
      "\n",
      "Rotation vector representation:\n",
      "[1.04719755 0.         0.        ]\n",
      "\n",
      "Rotation matrix representation:\n",
      "[[ 1.         0.         0.       ]\n",
      " [ 0.         0.5       -0.8660254]\n",
      " [ 0.         0.8660254  0.5      ]]\n"
     ]
    }
   ],
   "source": [
    "rotation = Rotation([1, 0, 0], np.pi / 3)\n",
    "\n",
    "print(f\"Quaternion representation:\\n{rotation.get_quaternion()}\\n\")\n",
    "print(f\"Rotation vector representation:\\n{rotation.get_rotation_vector()}\\n\")\n",
    "print(f\"Rotation matrix representation:\\n{rotation.get_rotation_matrix()}\")"
   ]
  },
  {
   "cell_type": "markdown",
   "metadata": {},
   "source": [
    "## Finite rotation calculations\n",
    "\n",
    "For mesh creation purposes it is essential to compose multiple rotations, calculate relative rotations or rotate a vector by a given rotation.\n",
    "With the `Rotation` class this can easily be achieved in a pythonic way.\n",
    "\n",
    "Lets start of with the rotation $\\triad_{x}$ (around $x$-axis with angle $\\pi/2$) and $\\triad_{y}$ (around $y$-axis with angle $\\pi/2$)"
   ]
  },
  {
   "cell_type": "code",
   "execution_count": 7,
   "metadata": {},
   "outputs": [],
   "source": [
    "lambda_x = Rotation([1, 0, 0], 0.5 * np.pi)\n",
    "lambda_y = Rotation([0, 1, 0], 0.5 * np.pi)"
   ]
  },
  {
   "cell_type": "markdown",
   "metadata": {},
   "source": [
    "We can visualize these rotations"
   ]
  },
  {
   "cell_type": "code",
   "execution_count": 8,
   "metadata": {},
   "outputs": [
    {
     "data": {
      "application/vnd.jupyter.widget-view+json": {
       "model_id": "9fb6feed3baf4b0c976bae903cd0f1d4",
       "version_major": 2,
       "version_minor": 0
      },
      "text/plain": [
       "Widget(value='<iframe src=\"http://localhost:49274/index.html?ui=P_0x141af1220_0&reconnect=auto\" class=\"pyvista…"
      ]
     },
     "metadata": {},
     "output_type": "display_data"
    },
    {
     "name": "stdout",
     "output_type": "stream",
     "text": [
      " JS Error => error: Uncaught TypeError: Cannot convert a BigInt value to a number\n",
      " JS Error => error: Uncaught TypeError: Cannot convert a BigInt value to a number\n",
      " JS Error => error: Uncaught TypeError: Cannot convert a BigInt value to a number\n",
      " JS Error => error: Uncaught TypeError: Cannot convert a BigInt value to a number\n",
      " JS Error => error: Uncaught TypeError: Cannot convert a BigInt value to a number\n",
      " JS Error => error: Uncaught TypeError: Cannot convert a BigInt value to a number\n",
      " JS Error => error: Uncaught TypeError: Cannot convert a BigInt value to a number\n",
      " JS Error => error: Uncaught TypeError: Cannot convert a BigInt value to a number\n",
      " JS Error => error: Uncaught TypeError: Cannot convert a BigInt value to a number\n",
      " JS Error => error: Uncaught TypeError: Cannot convert a BigInt value to a number\n",
      " JS Error => error: Uncaught TypeError: Cannot convert a BigInt value to a number\n",
      " JS Error => error: Uncaught TypeError: Cannot convert a BigInt value to a number\n",
      " JS Error => error: Uncaught TypeError: Cannot convert a BigInt value to a number\n"
     ]
    }
   ],
   "source": [
    "with PyVistaPlotter(shape=(1, 3), window_size=(1400, 500)) as plotter:\n",
    "    add_cube_plot(plotter, 0, 0, Rotation(), \"Original object\")\n",
    "    add_cube_plot(\n",
    "        plotter,\n",
    "        0,\n",
    "        1,\n",
    "        lambda_x,\n",
    "        \"Rotated around the $x$-axis\\nwith the angle $\\\\pi/2$ ($\\\\Lambda_{x}$)\",\n",
    "    )\n",
    "    add_cube_plot(\n",
    "        plotter,\n",
    "        0,\n",
    "        2,\n",
    "        lambda_y,\n",
    "        \"Rotated around the $y$-axis\\nwith the angle $\\\\pi/2$ ($\\\\Lambda_{y}$)\",\n",
    "    )"
   ]
  },
  {
   "cell_type": "markdown",
   "metadata": {},
   "source": [
    "We can now compute the composition of the two rotations $\\triad_{yx}$, i.e., first applying $\\triad_{x}$ then $\\triad_{y}$.\n",
    "This can be done with the standard multiply operator `*`:"
   ]
  },
  {
   "cell_type": "code",
   "execution_count": 9,
   "metadata": {},
   "outputs": [
    {
     "name": "stdout",
     "output_type": "stream",
     "text": [
      "lambda_yx:\n",
      "[[ 0.  1.  0.]\n",
      " [ 0.  0. -1.]\n",
      " [-1.  0.  0.]]\n"
     ]
    }
   ],
   "source": [
    "lambda_yx = lambda_y * lambda_x\n",
    "print_rotation_matrix(\"lambda_yx\", lambda_yx)"
   ]
  },
  {
   "cell_type": "markdown",
   "metadata": {},
   "source": [
    "An important property for elements of $\\SO$ is, that multiplications are non-commutative, i.e., the order of the elements in the multiplication matters.\n",
    "Thus, $\\triad_{yx} = \\triad_{y} \\triad_{x} \\ne \\triad_{x} \\triad_{y} = \\triad_{xy}$.\n",
    "We can easily check this"
   ]
  },
  {
   "cell_type": "code",
   "execution_count": 10,
   "metadata": {},
   "outputs": [
    {
     "name": "stdout",
     "output_type": "stream",
     "text": [
      "lambda_xy:\n",
      "[[ 0.  0.  1.]\n",
      " [ 1.  0. -0.]\n",
      " [-0.  1.  0.]]\n",
      "Rotations lambda_yx and lambda_xy are NOT equal!\n"
     ]
    }
   ],
   "source": [
    "lambda_xy = lambda_x * lambda_y\n",
    "print_rotation_matrix(\"lambda_xy\", lambda_xy)\n",
    "\n",
    "if lambda_xy == lambda_yx:\n",
    "    print(\"Rotations lambda_yx and lambda_xy are equal!\")\n",
    "else:\n",
    "    print(\"Rotations lambda_yx and lambda_xy are NOT equal!\")\n",
    "\n",
    "assert not lambda_yx == lambda_xy"
   ]
  },
  {
   "cell_type": "markdown",
   "metadata": {},
   "source": [
    "We can also visualize that these rotations are not equal to each other"
   ]
  },
  {
   "cell_type": "code",
   "execution_count": 11,
   "metadata": {},
   "outputs": [
    {
     "data": {
      "application/vnd.jupyter.widget-view+json": {
       "model_id": "b0618c30e09c44b592de280f43b822e6",
       "version_major": 2,
       "version_minor": 0
      },
      "text/plain": [
       "Widget(value='<iframe src=\"http://localhost:49274/index.html?ui=P_0x1786dee40_1&reconnect=auto\" class=\"pyvista…"
      ]
     },
     "metadata": {},
     "output_type": "display_data"
    }
   ],
   "source": [
    "with PyVistaPlotter(shape=(1, 3), window_size=(1400, 500)) as plotter:\n",
    "    add_cube_plot(plotter, 0, 0, Rotation(), \"Original object\")\n",
    "    add_cube_plot(\n",
    "        plotter,\n",
    "        0,\n",
    "        1,\n",
    "        lambda_yx,\n",
    "        \"Rotated by $\\\\Lambda_{yx}$\\n(First by $\\\\Lambda_x$, then by $\\\\Lambda_y$)\",\n",
    "    )\n",
    "    add_cube_plot(\n",
    "        plotter,\n",
    "        0,\n",
    "        2,\n",
    "        lambda_xy,\n",
    "        \"Rotated by $\\\\Lambda_{xy}$\\n(First by $\\\\Lambda_y$, then by $\\\\Lambda_x$)\",\n",
    "    )"
   ]
  },
  {
   "cell_type": "markdown",
   "metadata": {},
   "source": [
    "Rotations can also be inverted.\n",
    "This allows to easily calculate $\\triad_{y}$ from $\\triad_{yx}$ and $\\triad_{x}$ via $\\triad_{y} = \\triad_{yx} (\\triad_{x})^{-1}$"
   ]
  },
  {
   "cell_type": "code",
   "execution_count": 12,
   "metadata": {},
   "outputs": [],
   "source": [
    "lambda_y_computed = lambda_yx * lambda_x.inv()\n",
    "assert lambda_y == lambda_y_computed"
   ]
  },
  {
   "cell_type": "markdown",
   "metadata": {},
   "source": [
    "In many cases, we need to compute the rotation of a vector $\\vv{r} \\in \\R{3}$.\n",
    "For example $\\vv{r}' = \\triad_{21} \\vv{r}$.\n",
    "This can be done the following way"
   ]
  },
  {
   "cell_type": "code",
   "execution_count": 13,
   "metadata": {},
   "outputs": [
    {
     "name": "stdout",
     "output_type": "stream",
     "text": [
      "Rotated vector: [ 2. -3. -1.]\n"
     ]
    }
   ],
   "source": [
    "r = [1, 2, 3]\n",
    "r_prime = lambda_yx * r\n",
    "print(f\"Rotated vector: {r_prime}\")"
   ]
  },
  {
   "cell_type": "markdown",
   "metadata": {},
   "source": [
    "## Advanced features"
   ]
  },
  {
   "cell_type": "markdown",
   "metadata": {},
   "source": [
    "MeshPy also provides advanced finite rotation functionality such as smallest rotation mappings and transformation matrices between additive and multiplicative increments."
   ]
  },
  {
   "cell_type": "markdown",
   "metadata": {},
   "source": [
    "### Smallest rotation mapping\n",
    "\n",
    "A smallest rotation mapping calculates the triad $\\triad_{sr}$ that results from the smallest rotation (rotation without twist) from the triad $\\triad$ such that the rotated first basis vector aligns\n",
    "with $\\vv{t}$.\n",
    "In mathematical terms, $\\vv{t} = \\triad_{sr} \\vv{e}_1$, where the rotation vector for the relative triad $\\triad_{rel} = \\triad_{sr}(\\triad)^{-1}$ is a minimum."
   ]
  },
  {
   "cell_type": "code",
   "execution_count": 14,
   "metadata": {},
   "outputs": [
    {
     "name": "stdout",
     "output_type": "stream",
     "text": [
      "First basis vector of lambda_sr: [ 8.94427191e-01  4.47213595e-01 -6.93889390e-18]\n"
     ]
    }
   ],
   "source": [
    "from meshpy.core.rotation import smallest_rotation\n",
    "\n",
    "rotation = Rotation([1, 2, 3], np.pi / 6.0)\n",
    "lambda_sr = smallest_rotation(rotation, [1, 0.5, 0])\n",
    "print(f\"First basis vector of lambda_sr: {lambda_sr * [1,0,0]}\")"
   ]
  },
  {
   "cell_type": "markdown",
   "metadata": {},
   "source": [
    "### Transformation matrix $\\mm{T}$\n",
    "\n",
    "The infinitesimal variations of the rotation tensor $\\triad(\\vv{\\psi})$ (where $\\vv{\\psi}$ is the rotation vector) can be expressed in two ways:\n",
    "- Additive Variation:\n",
    "   $$\n",
    "   \\delta \\triad = \\frac{d}{d\\epsilon} \\bigg|_{\\epsilon=0} \\triad(\\vv{\\psi} + \\epsilon \\delta \\vv{\\psi}) = \\frac{\\partial \\triad(\\vv{\\psi})}{\\partial \\vv{\\psi}} \\delta \\vv{\\psi}\n",
    "   $$\n",
    "   This represents the standard definition of partial differentiation, which is based on additive increments.\n",
    "\n",
    "- Multiplicative Variation (also referred to as the spin vector variation):\n",
    "   $$\n",
    "   \\delta \\triad = \\frac{d}{d\\epsilon} \\bigg|_{\\epsilon=0} \\triad(\\epsilon \\delta \\vv{\\theta}) \\triad(\\vv{\\psi}) = \\mm{S}(\\delta \\vv{\\theta}) \\triad(\\vv{\\psi})\n",
    "   $$\n",
    "   Here, $\\mm{S}(\\delta \\vv{\\theta})$ is the skew-symmetric matrix corresponding to the axial vector $\\delta \\vv{\\theta}$.\n",
    "\n",
    "The two variations are related through the transformation matrix $\\mm{T}(\\vv{\\psi})$, which satisfies:\n",
    "$$\n",
    "\\delta \\vv{\\psi} = \\mm{T}(\\vv{\\psi}) \\delta \\vv{\\theta}\n",
    "$$\n",
    "\n",
    "MeshPy provides an explicit implementation of $\\mm{T}$ and $\\mm{T}^{-1}$ via the `Rotation` class:"
   ]
  },
  {
   "cell_type": "code",
   "execution_count": 15,
   "metadata": {},
   "outputs": [
    {
     "name": "stdout",
     "output_type": "stream",
     "text": [
      "Transformation matrix:\n",
      "[[ 0.978688    0.21318526 -0.13501951]\n",
      " [-0.20662772  0.98360615  0.07980514]\n",
      " [ 0.14485581 -0.06013252  0.99180308]]\n",
      "Transformation matrix inverse:\n",
      "[[ 0.95814897 -0.19871589  0.1464276 ]\n",
      " [ 0.21159313  0.9678069  -0.04906898]\n",
      " [-0.12711174  0.0877007   0.98390345]]\n"
     ]
    }
   ],
   "source": [
    "rotation = Rotation([1, 2, 3], np.pi / 6.0)\n",
    "print_matrix(\"Transformation matrix\", rotation.get_transformation_matrix())\n",
    "print_matrix(\"Transformation matrix inverse\", rotation.get_transformation_matrix_inv())"
   ]
  },
  {
   "cell_type": "code",
   "execution_count": 23,
   "metadata": {},
   "outputs": [
    {
     "data": {
      "application/vnd.jupyter.widget-view+json": {
       "model_id": "334552737f9441f9a45c5dacc9a9d4ba",
       "version_major": 2,
       "version_minor": 0
      },
      "text/plain": [
       "Widget(value='<iframe src=\"http://localhost:49274/index.html?ui=P_0x3039795e0_9&reconnect=auto\" class=\"pyvista…"
      ]
     },
     "metadata": {},
     "output_type": "display_data"
    },
    {
     "ename": "NameError",
     "evalue": "name 'mapping' is not defined",
     "output_type": "error",
     "traceback": [
      "\u001b[0;31m---------------------------------------------------------------------------\u001b[0m",
      "\u001b[0;31mNameError\u001b[0m                                 Traceback (most recent call last)",
      "Cell \u001b[0;32mIn[23], line 86\u001b[0m\n\u001b[1;32m     82\u001b[0m     plotter\u001b[38;5;241m.\u001b[39mcamera\u001b[38;5;241m.\u001b[39mzoom(\u001b[38;5;241m2.0\u001b[39m)\n\u001b[1;32m     85\u001b[0m \u001b[38;5;28;01mwith\u001b[39;00m PyVistaPlotter() \u001b[38;5;28;01mas\u001b[39;00m plotter:\n\u001b[0;32m---> 86\u001b[0m     \u001b[43madd_cube_plot\u001b[49m\u001b[43m(\u001b[49m\u001b[43mplotter\u001b[49m\u001b[43m,\u001b[49m\u001b[43m \u001b[49m\u001b[38;5;241;43m0\u001b[39;49m\u001b[43m,\u001b[49m\u001b[43m \u001b[49m\u001b[38;5;241;43m0\u001b[39;49m\u001b[43m,\u001b[49m\u001b[43m \u001b[49m\u001b[43mRotation\u001b[49m\u001b[43m(\u001b[49m\u001b[43m)\u001b[49m\u001b[43m,\u001b[49m\u001b[43m \u001b[49m\u001b[38;5;124;43m\"\u001b[39;49m\u001b[38;5;124;43mOriginal object\u001b[39;49m\u001b[38;5;124;43m\"\u001b[39;49m\u001b[43m)\u001b[49m\n",
      "Cell \u001b[0;32mIn[23], line 42\u001b[0m, in \u001b[0;36madd_cube_plot\u001b[0;34m(plotter, row, col, rotation, text, plot_outlines)\u001b[0m\n\u001b[1;32m     40\u001b[0m \u001b[38;5;66;03m# mapping = np.linspace(mesh['values'].min(), mesh['values'].max(), 256)\u001b[39;00m\n\u001b[1;32m     41\u001b[0m newcolors \u001b[38;5;241m=\u001b[39m np\u001b[38;5;241m.\u001b[39mempty((\u001b[38;5;241m256\u001b[39m, \u001b[38;5;241m4\u001b[39m))\n\u001b[0;32m---> 42\u001b[0m newcolors[\u001b[43mmapping\u001b[49m \u001b[38;5;241m>\u001b[39m\u001b[38;5;241m=\u001b[39m \u001b[38;5;241m80\u001b[39m] \u001b[38;5;241m=\u001b[39m red\n\u001b[1;32m     43\u001b[0m newcolors[mapping \u001b[38;5;241m<\u001b[39m \u001b[38;5;241m80\u001b[39m] \u001b[38;5;241m=\u001b[39m grey\n\u001b[1;32m     44\u001b[0m newcolors[mapping \u001b[38;5;241m<\u001b[39m \u001b[38;5;241m55\u001b[39m] \u001b[38;5;241m=\u001b[39m yellow\n",
      "\u001b[0;31mNameError\u001b[0m: name 'mapping' is not defined"
     ]
    }
   ],
   "source": [
    "\n",
    "def add_cube_plot(plotter, row, col, rotation, text, *, plot_outlines=True):\n",
    "    \"\"\"Add a cube to the plotter.\"\"\"\n",
    "\n",
    "    plotter.subplot(row, col)\n",
    "\n",
    "    # Define and optionally plot the original cube\n",
    "    cube_original = pv.Cube()\n",
    "    cube_original = cube_original.scale([3, 2, 1])\n",
    "    if plot_outlines:\n",
    "        plotter.add_mesh(\n",
    "            cube_original, scalars=None, show_edges=True, style=\"wireframe\"\n",
    "        )\n",
    "\n",
    "    # Rotate the cube\n",
    "    rotation_vector = rotation.get_rotation_vector()\n",
    "    cube = cube_original.rotate_vector(\n",
    "        vector=rotation_vector, angle=np.linalg.norm(rotation_vector) * 180 / np.pi\n",
    "    )\n",
    "\n",
    "    # Define colors for each face of the cube (Rubik's cube style)\n",
    "    face_colors = np.array(\n",
    "        [\n",
    "            [255, 165, 0],\n",
    "            [255, 0, 0],\n",
    "            [0, 255, 0],\n",
    "            [0, 0, 255],\n",
    "            [255, 255, 0],\n",
    "            [255, 255, 255],\n",
    "        ]\n",
    "    )\n",
    "    cube.cell_data[\"colors\"] = face_colors\n",
    "\n",
    "    # Define the colors we want to use\n",
    "    blue = np.array([12 / 256, 238 / 256, 246 / 256, 1.0])\n",
    "    black = np.array([11 / 256, 11 / 256, 11 / 256, 1.0])\n",
    "    grey = np.array([189 / 256, 189 / 256, 189 / 256, 1.0])\n",
    "    yellow = np.array([255 / 256, 247 / 256, 0 / 256, 1.0])\n",
    "    red = np.array([1.0, 0.0, 0.0, 1.0])\n",
    "\n",
    "    # mapping = np.linspace(mesh['values'].min(), mesh['values'].max(), 256)\n",
    "    newcolors = np.empty((256, 4))\n",
    "    newcolors[mapping >= 80] = red\n",
    "    newcolors[mapping < 80] = grey\n",
    "    newcolors[mapping < 55] = yellow\n",
    "    newcolors[mapping < 30] = blue\n",
    "    newcolors[mapping < 1] = black\n",
    "    my_colormap = pv.ListedColormap(newcolors)\n",
    "\n",
    "\n",
    "    # Plot the cube and the title text\n",
    "    plotter.add_mesh(cube, scalars=\"colors\", show_edges=True,cmap=my_colormap)\n",
    "    plotter.add_text(text, font_size=12)\n",
    "\n",
    "    # Plot the axes\n",
    "    for i_dir, (color, name) in enumerate(\n",
    "        zip([\"red\", \"green\", \"blue\"], [\"x\", \"y\", \"z\"])\n",
    "    ):\n",
    "        direction = np.zeros(3)\n",
    "        direction[i_dir] = 3.0\n",
    "        factor = 0.5\n",
    "        arrow = pv.Arrow(\n",
    "            start=[0, 0, 0],\n",
    "            direction=direction,\n",
    "            scale=\"auto\",\n",
    "            tip_radius=0.1 * factor,\n",
    "            shaft_radius=0.05 * factor,\n",
    "            tip_length=0.25 * factor,\n",
    "        )\n",
    "        plotter.add_mesh(arrow, color=color)\n",
    "        plotter.add_point_labels(\n",
    "            [1.075 * direction],\n",
    "            [name],\n",
    "            shadow=True,\n",
    "            shape=None,\n",
    "            show_points=False,\n",
    "            font_size=32,\n",
    "            justification_horizontal=\"center\",\n",
    "            justification_vertical=\"center\",\n",
    "        )\n",
    "\n",
    "    plotter.show_axes()\n",
    "    plotter.camera.zoom(2.0)\n",
    "\n",
    "\n",
    "with PyVistaPlotter() as plotter:\n",
    "    add_cube_plot(plotter, 0, 0, Rotation(), \"Original object\")"
   ]
  },
  {
   "cell_type": "code",
   "execution_count": null,
   "metadata": {},
   "outputs": [],
   "source": []
  }
 ],
 "metadata": {
  "kernelspec": {
   "display_name": "meshpy",
   "language": "python",
   "name": "python3"
  },
  "language_info": {
   "codemirror_mode": {
    "name": "ipython",
    "version": 3
   },
   "file_extension": ".py",
   "mimetype": "text/x-python",
   "name": "python",
   "nbconvert_exporter": "python",
   "pygments_lexer": "ipython3",
   "version": "3.12.9"
  }
 },
 "nbformat": 4,
 "nbformat_minor": 2
}
