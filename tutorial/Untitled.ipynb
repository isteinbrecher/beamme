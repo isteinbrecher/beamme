{
 "cells": [
  {
   "cell_type": "code",
   "execution_count": 1,
   "id": "ae375b11",
   "metadata": {},
   "outputs": [],
   "source": [
    "import meshpy as mp"
   ]
  },
  {
   "cell_type": "code",
   "execution_count": 4,
   "id": "c704a1be",
   "metadata": {},
   "outputs": [
    {
     "data": {
      "text/plain": [
       "GeometryName([('start', <meshpy.geometry_set.GeometrySet at 0x7f94c8607100>),\n",
       "              ('end', <meshpy.geometry_set.GeometrySet at 0x7f94c8607d60>),\n",
       "              ('line', <meshpy.geometry_set.GeometrySet at 0x7f94a8478580>)])"
      ]
     },
     "execution_count": 4,
     "metadata": {},
     "output_type": "execute_result"
    }
   ],
   "source": [
    "mesh = mp.Mesh()\n",
    "mat = mp.MaterialReissner(radius=0.1)\n",
    "mp.mesh_creation_functions.create_beam_mesh_line(mesh, mp.Beam3rHerm2Line3, mat, [0,0,0], [4,1,1])"
   ]
  },
  {
   "cell_type": "code",
   "execution_count": 5,
   "id": "c0fe68f4",
   "metadata": {},
   "outputs": [
    {
     "name": "stderr",
     "output_type": "stream",
     "text": [
      "WARNING:trame.app:\n",
      "WARNING:trame.app:--------------------------------------------------------------------------------\n",
      "WARNING:trame.app:   !!! You are currently using trame@3 which may break your application !!!\n",
      "WARNING:trame.app:--------------------------------------------------------------------------------\n",
      "WARNING:trame.app:\n",
      " 1. trame@3 only provides by default trame.widgets.[html,client] and remove\n",
      "    everything else as implicit dependency. Those other widgets will still\n",
      "    exist and will be supported, but they will need to be defined as a\n",
      "    dependency of your application.\n",
      "\n",
      "       $ pip install trame-vtk trame-vuetify trame-plotly\n",
      "\n",
      "    Import paths are remaining the same.\n",
      "\n",
      "    For libraries like vuetify since they offer different API between\n",
      "    their vue2 and vue3 implementation, the widget name will reflect\n",
      "    which vue version they are referencing. But original naming will remain.\n",
      "\n",
      "       from trame.widgets import vuetify2, vuetify3\n",
      "\n",
      "\n",
      " 2. trame@3 aims to use vue3 as a new default. But to smooth the transition\n",
      "    we will maintain the server.client_type = 'vue2' default until\n",
      "    December 2023 which is the vue2 EOL.\n",
      "\n",
      "    After that time, the new default will be switched to 'vue3'.\n",
      "    Vue2 will still work 'forever' and many of the new widgets will be\n",
      "    written to support both versions.\n",
      "\n",
      "    If you have a 'vue2' application and don't need or want to update your code,\n",
      "    you can still use trame@3 with vue2 by setting `server.client_type='vue2'.\n",
      "\n",
      " Actions items\n",
      " ~~~~~~~~~~~~~\n",
      "   a. Make sure you set `server.client_type` to either 'vue2' or 'vue3'.\n",
      "   b. List the expected dependencies or have a 'trame<3' dependency\n",
      "\n",
      "WARNING:trame.app:--------------------------------------------------------------------------------\n",
      "WARNING:trame.app: => Current client_type default: vue2\n",
      "WARNING:trame.app:--------------------------------------------------------------------------------\n",
      "WARNING:trame.app:\n"
     ]
    },
    {
     "data": {
      "application/vnd.jupyter.widget-view+json": {
       "model_id": "dd9f6bbca45e455db4bec67d3cf8db35",
       "version_major": 2,
       "version_minor": 0
      },
      "text/plain": [
       "Widget(value=\"<iframe src='http://localhost:46359/index.html?ui=P_0x7f94a3b73820_1&reconnect=auto' style='widt…"
      ]
     },
     "metadata": {},
     "output_type": "display_data"
    }
   ],
   "source": [
    "mesh.display_pyvista()"
   ]
  },
  {
   "cell_type": "code",
   "execution_count": null,
   "id": "ba9a4c6f",
   "metadata": {},
   "outputs": [],
   "source": []
  },
  {
   "cell_type": "code",
   "execution_count": null,
   "id": "8df81154",
   "metadata": {},
   "outputs": [],
   "source": []
  },
  {
   "cell_type": "code",
   "execution_count": null,
   "id": "cd229c59",
   "metadata": {},
   "outputs": [],
   "source": []
  },
  {
   "cell_type": "code",
   "execution_count": null,
   "id": "0373125c",
   "metadata": {},
   "outputs": [],
   "source": []
  }
 ],
 "metadata": {
  "kernelspec": {
   "display_name": "Python 3 (ipykernel)",
   "language": "python",
   "name": "python3"
  },
  "language_info": {
   "codemirror_mode": {
    "name": "ipython",
    "version": 3
   },
   "file_extension": ".py",
   "mimetype": "text/x-python",
   "name": "python",
   "nbconvert_exporter": "python",
   "pygments_lexer": "ipython3",
   "version": "3.9.13"
  },
  "vscode": {
   "interpreter": {
    "hash": "a60cbf33b67d9f301b9bf20e8f704929816efc777817b5ea90b1e54b0f750d55"
   }
  }
 },
 "nbformat": 4,
 "nbformat_minor": 5
}
